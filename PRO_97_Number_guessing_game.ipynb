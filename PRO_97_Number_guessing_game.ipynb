{
  "nbformat": 4,
  "nbformat_minor": 0,
  "metadata": {
    "colab": {
      "name": "PRO-97 Number guessing game.ipynb",
      "provenance": [],
      "collapsed_sections": [],
      "authorship_tag": "ABX9TyNwxlbjVoSs1MGILWCqNRB4",
      "include_colab_link": true
    },
    "kernelspec": {
      "name": "python3",
      "display_name": "Python 3"
    },
    "language_info": {
      "name": "python"
    }
  },
  "cells": [
    {
      "cell_type": "markdown",
      "metadata": {
        "id": "view-in-github",
        "colab_type": "text"
      },
      "source": [
        "<a href=\"https://colab.research.google.com/github/GargiChaturvedi/PRO-97-Number-guessing-game/blob/main/PRO_97_Number_guessing_game.ipynb\" target=\"_parent\"><img src=\"https://colab.research.google.com/assets/colab-badge.svg\" alt=\"Open In Colab\"/></a>"
      ]
    },
    {
      "cell_type": "markdown",
      "source": [
        "<h1>Write a program for a Number Guessing Game from 1-9</h1>"
      ],
      "metadata": {
        "id": "cdg_d4NkzhLy"
      }
    },
    {
      "cell_type": "code",
      "execution_count": 5,
      "metadata": {
        "colab": {
          "base_uri": "https://localhost:8080/"
        },
        "id": "HFnOJTbKzgfd",
        "outputId": "61a60337-a202-4d80-f699-dfd88c34cd8b"
      },
      "outputs": [
        {
          "output_type": "stream",
          "name": "stdout",
          "text": [
            "Number Guessing Game\n",
            "Guess a number (between 1 to 9)\n",
            "Enter your guess:- 8\n",
            "Hard luck! The number is smaller than 8\n",
            "Enter your guess:- 4\n",
            "Hard luck! The number is smaller than 4\n",
            "Enter your guess:- 2\n",
            "Hard luck! The number is greater than 2\n",
            "Enter your guess:- 3\n",
            "Correctly guessed! CONGRATULATIONS\n",
            "Thank you for being with us!\n"
          ]
        }
      ],
      "source": [
        "from random import *\n",
        "print(\"Number Guessing Game\")\n",
        "print(\"Guess a number (between 1 to 9)\")\n",
        "\n",
        "chances = 1\n",
        "randNum = randrange(1, 9)\n",
        "randNum = int(randNum)\n",
        "\n",
        "while chances < 5:\n",
        "  response = input(\"Enter your guess:- \")\n",
        "  response = int(response)\n",
        "  if response == randNum:\n",
        "    print(\"Correctly guessed! CONGRATULATIONS\")\n",
        "    break\n",
        "  elif chances < 5 and not response == randNum:\n",
        "    if response < randNum:\n",
        "      print(\"Hard luck! The number is greater than\", response)\n",
        "    else:\n",
        "      print(\"Hard luck! The number is smaller than\", response)  \n",
        "  else:\n",
        "    print(\"You lose! Better luck next time\")   \n",
        "\n",
        "print(\"Thank you for being with us!\")   "
      ]
    }
  ]
}